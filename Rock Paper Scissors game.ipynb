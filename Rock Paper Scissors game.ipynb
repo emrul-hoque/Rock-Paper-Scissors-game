{
  "nbformat": 4,
  "nbformat_minor": 0,
  "metadata": {
    "colab": {
      "provenance": [],
      "authorship_tag": "ABX9TyP7mEVXg48ajglXOZTBvruG",
      "include_colab_link": true
    },
    "kernelspec": {
      "name": "python3",
      "display_name": "Python 3"
    },
    "language_info": {
      "name": "python"
    }
  },
  "cells": [
    {
      "cell_type": "markdown",
      "metadata": {
        "id": "view-in-github",
        "colab_type": "text"
      },
      "source": [
        "<a href=\"https://colab.research.google.com/github/emrul-hoque/Rock-Paper-Scissors-game/blob/master/Rock%20Paper%20Scissors%20game.ipynb\" target=\"_parent\"><img src=\"https://colab.research.google.com/assets/colab-badge.svg\" alt=\"Open In Colab\"/></a>"
      ]
    },
    {
      "cell_type": "code",
      "source": [
        "import random\n",
        "import os\n",
        "\n",
        "os.system('cls')\n",
        "\n",
        "print(\"\"\"\n",
        "      =================================================\n",
        "      Let's play ROCK PAPER SCISSORS with the computer\n",
        "      Press 1 for ROCK 🪨\n",
        "      Press 2 for PAPER 📄\n",
        "      Press 3 for SCISSORS ✂️\n",
        "      =================================================\n",
        "      \"\"\")\n",
        "\n",
        "play_again = True\n",
        "\n",
        "while True:\n",
        "\n",
        "        player_choice = int(input(\"Enter your choice: \"))\n",
        "\n",
        "        computer_choice = random.randint(1, 3)\n",
        "\n",
        "        if player_choice == 1:\n",
        "            if computer_choice == 1:\n",
        "                print(\"Your choice ROCK\\nComputer's choice ROCK.\\nIt's a tie!\")\n",
        "            elif computer_choice == 2:\n",
        "                print(\"Your choice ROCK\\nComputer's choice PAPER.\\nComputer wins!\")\n",
        "            else:\n",
        "                print(\"Your choice ROCK\\nComputer's choice Scissors.\\nYou win!\")\n",
        "\n",
        "        elif player_choice == 2:\n",
        "            if computer_choice == 1:\n",
        "                print(\"Your choice PAPER\\nComputer's choice ROCK.\\nComputer wins!\")\n",
        "            elif computer_choice == 2:\n",
        "                print(\"Your choice PAPER\\nComputer's choice PAPER.\\nIt's a tie!\")\n",
        "            else:\n",
        "                print(\"Your choice PAPER\\nComputer's choice Scissors.\\nComputer wins!\")\n",
        "\n",
        "        else:\n",
        "            if computer_choice == 1:\n",
        "                print(\"Your choice Scissors\\nComputer's choice ROCK.\\nComputer wins!\")\n",
        "            elif computer_choice == 2:\n",
        "                print(\"Your choice Scissors\\nComputer's choice PAPER.\\nYou win!\")\n",
        "            else:\n",
        "                print(\"Your choice Scissors\\nComputer's choice Scissors.\\nIt's a tie!\")\n",
        "\n",
        "\n",
        "decision = input(\"\\nEnter Y to play again or Q to quit\\n\")\n",
        "d = decision.upper()\n",
        "\n",
        "if \"d\" != \"Y\":\n",
        "    play_again = False\n",
        "    SystemExit(\"Bye\")\n",
        "else:\n",
        "    play_again = True\n",
        ""
      ],
      "metadata": {
        "colab": {
          "base_uri": "https://localhost:8080/",
          "height": 598
        },
        "id": "c0mwaPzvm99l",
        "outputId": "69331cbe-a655-4899-aa44-f019df8f7747"
      },
      "execution_count": 3,
      "outputs": [
        {
          "output_type": "stream",
          "name": "stdout",
          "text": [
            "\n",
            "      =================================================\n",
            "      Let's play ROCK PAPER SCISSORS with the computer\n",
            "      Press 1 for ROCK 🪨\n",
            "      Press 2 for PAPER 📄\n",
            "      Press 3 for SCISSORS ✂️\n",
            "      =================================================\n",
            "      \n",
            "Enter your choice: 3\n",
            "Your choice Scissors\n",
            "Computer's choice ROCK.\n",
            "Computer wins!\n"
          ]
        },
        {
          "output_type": "error",
          "ename": "KeyboardInterrupt",
          "evalue": "ignored",
          "traceback": [
            "\u001b[0;31m---------------------------------------------------------------------------\u001b[0m",
            "\u001b[0;31mKeyboardInterrupt\u001b[0m                         Traceback (most recent call last)",
            "\u001b[0;32m<ipython-input-3-ca9b2c3085f4>\u001b[0m in \u001b[0;36m<cell line: 17>\u001b[0;34m()\u001b[0m\n\u001b[1;32m     17\u001b[0m \u001b[0;32mwhile\u001b[0m \u001b[0;32mTrue\u001b[0m\u001b[0;34m:\u001b[0m\u001b[0;34m\u001b[0m\u001b[0;34m\u001b[0m\u001b[0m\n\u001b[1;32m     18\u001b[0m \u001b[0;34m\u001b[0m\u001b[0m\n\u001b[0;32m---> 19\u001b[0;31m         \u001b[0mplayer_choice\u001b[0m \u001b[0;34m=\u001b[0m \u001b[0mint\u001b[0m\u001b[0;34m(\u001b[0m\u001b[0minput\u001b[0m\u001b[0;34m(\u001b[0m\u001b[0;34m\"Enter your choice: \"\u001b[0m\u001b[0;34m)\u001b[0m\u001b[0;34m)\u001b[0m\u001b[0;34m\u001b[0m\u001b[0;34m\u001b[0m\u001b[0m\n\u001b[0m\u001b[1;32m     20\u001b[0m \u001b[0;34m\u001b[0m\u001b[0m\n\u001b[1;32m     21\u001b[0m         \u001b[0mcomputer_choice\u001b[0m \u001b[0;34m=\u001b[0m \u001b[0mrandom\u001b[0m\u001b[0;34m.\u001b[0m\u001b[0mrandint\u001b[0m\u001b[0;34m(\u001b[0m\u001b[0;36m1\u001b[0m\u001b[0;34m,\u001b[0m \u001b[0;36m3\u001b[0m\u001b[0;34m)\u001b[0m\u001b[0;34m\u001b[0m\u001b[0;34m\u001b[0m\u001b[0m\n",
            "\u001b[0;32m/usr/local/lib/python3.10/dist-packages/ipykernel/kernelbase.py\u001b[0m in \u001b[0;36mraw_input\u001b[0;34m(self, prompt)\u001b[0m\n\u001b[1;32m    849\u001b[0m                 \u001b[0;34m\"raw_input was called, but this frontend does not support input requests.\"\u001b[0m\u001b[0;34m\u001b[0m\u001b[0;34m\u001b[0m\u001b[0m\n\u001b[1;32m    850\u001b[0m             )\n\u001b[0;32m--> 851\u001b[0;31m         return self._input_request(str(prompt),\n\u001b[0m\u001b[1;32m    852\u001b[0m             \u001b[0mself\u001b[0m\u001b[0;34m.\u001b[0m\u001b[0m_parent_ident\u001b[0m\u001b[0;34m,\u001b[0m\u001b[0;34m\u001b[0m\u001b[0;34m\u001b[0m\u001b[0m\n\u001b[1;32m    853\u001b[0m             \u001b[0mself\u001b[0m\u001b[0;34m.\u001b[0m\u001b[0m_parent_header\u001b[0m\u001b[0;34m,\u001b[0m\u001b[0;34m\u001b[0m\u001b[0;34m\u001b[0m\u001b[0m\n",
            "\u001b[0;32m/usr/local/lib/python3.10/dist-packages/ipykernel/kernelbase.py\u001b[0m in \u001b[0;36m_input_request\u001b[0;34m(self, prompt, ident, parent, password)\u001b[0m\n\u001b[1;32m    893\u001b[0m             \u001b[0;32mexcept\u001b[0m \u001b[0mKeyboardInterrupt\u001b[0m\u001b[0;34m:\u001b[0m\u001b[0;34m\u001b[0m\u001b[0;34m\u001b[0m\u001b[0m\n\u001b[1;32m    894\u001b[0m                 \u001b[0;31m# re-raise KeyboardInterrupt, to truncate traceback\u001b[0m\u001b[0;34m\u001b[0m\u001b[0;34m\u001b[0m\u001b[0m\n\u001b[0;32m--> 895\u001b[0;31m                 \u001b[0;32mraise\u001b[0m \u001b[0mKeyboardInterrupt\u001b[0m\u001b[0;34m(\u001b[0m\u001b[0;34m\"Interrupted by user\"\u001b[0m\u001b[0;34m)\u001b[0m \u001b[0;32mfrom\u001b[0m \u001b[0;32mNone\u001b[0m\u001b[0;34m\u001b[0m\u001b[0;34m\u001b[0m\u001b[0m\n\u001b[0m\u001b[1;32m    896\u001b[0m             \u001b[0;32mexcept\u001b[0m \u001b[0mException\u001b[0m \u001b[0;32mas\u001b[0m \u001b[0me\u001b[0m\u001b[0;34m:\u001b[0m\u001b[0;34m\u001b[0m\u001b[0;34m\u001b[0m\u001b[0m\n\u001b[1;32m    897\u001b[0m                 \u001b[0mself\u001b[0m\u001b[0;34m.\u001b[0m\u001b[0mlog\u001b[0m\u001b[0;34m.\u001b[0m\u001b[0mwarning\u001b[0m\u001b[0;34m(\u001b[0m\u001b[0;34m\"Invalid Message:\"\u001b[0m\u001b[0;34m,\u001b[0m \u001b[0mexc_info\u001b[0m\u001b[0;34m=\u001b[0m\u001b[0;32mTrue\u001b[0m\u001b[0;34m)\u001b[0m\u001b[0;34m\u001b[0m\u001b[0;34m\u001b[0m\u001b[0m\n",
            "\u001b[0;31mKeyboardInterrupt\u001b[0m: Interrupted by user"
          ]
        }
      ]
    }
  ]
}